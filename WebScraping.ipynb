{
  "nbformat": 4,
  "nbformat_minor": 0,
  "metadata": {
    "colab": {
      "provenance": [],
      "authorship_tag": "ABX9TyNW6p4+/MAIxN8JabSyeGri",
      "include_colab_link": true
    },
    "kernelspec": {
      "name": "python3",
      "display_name": "Python 3"
    },
    "language_info": {
      "name": "python"
    }
  },
  "cells": [
    {
      "cell_type": "markdown",
      "metadata": {
        "id": "view-in-github",
        "colab_type": "text"
      },
      "source": [
        "<a href=\"https://colab.research.google.com/github/LuisSilvaS/Web-Scraping/blob/master/WebScraping.ipynb\" target=\"_parent\"><img src=\"https://colab.research.google.com/assets/colab-badge.svg\" alt=\"Open In Colab\"/></a>"
      ]
    },
    {
      "cell_type": "code",
      "execution_count": null,
      "metadata": {
        "id": "2ATb8fhEp--f"
      },
      "outputs": [],
      "source": [
        "# Bibliotecas ......\n",
        "import pandas as pd\n",
        "import requests\n",
        "from bs4 import BeautifulSoup\n",
        "\n",
        "# Fazendo requisição GET\n",
        "req = requests.get('https://www.basketball-reference.com/leagues/NBA_2018_totals.html')\n",
        "\n",
        "# Testando objeto Response\n",
        "if req.status_code == 200:\n",
        "    print('Requisição bem sucedida!')\n",
        "    content = req.content\n",
        "\n",
        "# Criação de objeto para salvar documento estruturado (tags)\n",
        "soup = BeautifulSoup(content, 'html.parser')\n",
        "\n",
        "# Utilizando o método find para acessar o objeto gerado \n",
        "table = soup.find(name='table')\n",
        "\n",
        "# Convertendo objeto tabela em string\n",
        "table_str = str(table)\n",
        "\n",
        "# Carregando os dados em um Data Frame\n",
        "df = pd.read_html(table_str)[0]\n",
        "\n",
        "# salvando planilha para excel\n",
        "df.to_excel('2018.xlsx',encoding='utf-8',index=False)   \n",
        "    \n",
        "\n",
        "    \n"
      ]
    }
  ]
}